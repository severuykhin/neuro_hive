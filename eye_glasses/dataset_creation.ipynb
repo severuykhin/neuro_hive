{
 "cells": [
  {
   "cell_type": "code",
   "execution_count": 87,
   "metadata": {},
   "outputs": [],
   "source": [
    "# Modules\n",
    "import os\n",
    "import numpy as np\n",
    "import tensorflow as tf\n",
    "import tensorflow_datasets as tfds\n",
    "from tensorflow.keras.layers import Dense, GlobalAveragePooling2D, Dropout\n",
    "from tensorflow.keras.preprocessing.image import load_img, img_to_array\n",
    "import matplotlib.pyplot as plt"
   ]
  },
  {
   "cell_type": "code",
   "execution_count": 93,
   "metadata": {},
   "outputs": [],
   "source": [
    "# Utils\n",
    "def resize_image(self, img, label):\n",
    "    img = tf.cast(img, tf.float32)\n",
    "    img = tf.image.resize(img, (self.IMAGE_SIDE_SIZE, self.IMAGE_SIDE_SIZE))\n",
    "    img = img / 255.0\n",
    "    return img, label\n",
    "\n",
    "def process_image_to_dataset(tensor_image):\n",
    "    image = tf.io.read_file(tensor_image)\n",
    "    image = tf.image.decode_jpeg(image, channels=3)\n",
    "    image = tf.image.resize(image, [224, 224])\n",
    "    image /= 255.0\n",
    "    return image\n",
    "\n",
    "def create_data_set(images_folder):\n",
    "    filenames = []\n",
    "    labels = []\n",
    "    \n",
    "    for filename in os.listdir('./'+ images_folder):\n",
    "        file_path = os.getcwd() + '/'+ images_folder +'/' + filename\n",
    "        filenames.append(file_path)\n",
    "        if filename.endswith(\"1.jpg\"): \n",
    "            labels.append(0)\n",
    "        else:\n",
    "            labels.append(1)\n",
    "            \n",
    "    path_ds = tf.data.Dataset.from_tensor_slices(filenames)\n",
    "    image_ds = path_ds.map(process_image_to_dataset, num_parallel_calls=tf.data.experimental.AUTOTUNE)\n",
    "    label_ds = tf.data.Dataset.from_tensor_slices(tf.cast(labels, tf.int64))\n",
    "    dataset = tf.data.Dataset.zip((image_ds, label_ds)).prefetch(10)\n",
    "    return dataset"
   ]
  },
  {
   "cell_type": "code",
   "execution_count": 67,
   "metadata": {},
   "outputs": [],
   "source": [
    "# Lets Do some stuff"
   ]
  },
  {
   "cell_type": "code",
   "execution_count": 106,
   "metadata": {},
   "outputs": [],
   "source": [
    "train_data = create_data_set('trainimages').shuffle(1000).batch(16)\n",
    "test_data = create_data_set('testimages').shuffle(1000).batch(16)"
   ]
  },
  {
   "cell_type": "code",
   "execution_count": 113,
   "metadata": {},
   "outputs": [],
   "source": [
    "base_layers = tf.keras.applications.MobileNetV2(input_shape=(224, 224, 3), include_top=False)\n",
    "base_layers.trainable = False\n",
    "model = tf.keras.Sequential([\n",
    "    base_layers,\n",
    "    GlobalAveragePooling2D(),\n",
    "    Dropout(0.1),\n",
    "    Dense(1, activation = \"sigmoid\")\n",
    "])\n",
    "\n",
    "model.compile(optimizer='adam', loss=tf.keras.losses.BinaryCrossentropy(from_logits=True), metrics=['accuracy'])"
   ]
  },
  {
   "cell_type": "code",
   "execution_count": 114,
   "metadata": {},
   "outputs": [
    {
     "name": "stdout",
     "output_type": "stream",
     "text": [
      "Model: \"sequential_5\"\n",
      "_________________________________________________________________\n",
      "Layer (type)                 Output Shape              Param #   \n",
      "=================================================================\n",
      "mobilenetv2_1.00_224 (Functi (None, 7, 7, 1280)        2257984   \n",
      "_________________________________________________________________\n",
      "global_average_pooling2d_5 ( (None, 1280)              0         \n",
      "_________________________________________________________________\n",
      "dropout_5 (Dropout)          (None, 1280)              0         \n",
      "_________________________________________________________________\n",
      "dense_5 (Dense)              (None, 1)                 1281      \n",
      "=================================================================\n",
      "Total params: 2,259,265\n",
      "Trainable params: 1,281\n",
      "Non-trainable params: 2,257,984\n",
      "_________________________________________________________________\n"
     ]
    }
   ],
   "source": [
    "model.summary()"
   ]
  },
  {
   "cell_type": "code",
   "execution_count": 115,
   "metadata": {},
   "outputs": [
    {
     "name": "stdout",
     "output_type": "stream",
     "text": [
      "Epoch 1/10\n",
      "75/75 [==============================] - 15s 199ms/step - loss: 0.6761 - accuracy: 0.7308\n",
      "Epoch 2/10\n",
      "75/75 [==============================] - 15s 201ms/step - loss: 0.6126 - accuracy: 0.9122\n",
      "Epoch 3/10\n",
      "75/75 [==============================] - 16s 215ms/step - loss: 0.6003 - accuracy: 0.9359\n",
      "Epoch 4/10\n",
      "75/75 [==============================] - 16s 214ms/step - loss: 0.5945 - accuracy: 0.9477\n",
      "Epoch 5/10\n",
      "75/75 [==============================] - 16s 213ms/step - loss: 0.5912 - accuracy: 0.9527\n",
      "Epoch 6/10\n",
      "75/75 [==============================] - 16s 215ms/step - loss: 0.5897 - accuracy: 0.9544\n",
      "Epoch 7/10\n",
      "75/75 [==============================] - 16s 216ms/step - loss: 0.5871 - accuracy: 0.9603\n",
      "Epoch 8/10\n",
      "75/75 [==============================] - 16s 214ms/step - loss: 0.5854 - accuracy: 0.9646\n",
      "Epoch 9/10\n",
      "75/75 [==============================] - 17s 230ms/step - loss: 0.5839 - accuracy: 0.9662\n",
      "Epoch 10/10\n",
      "75/75 [==============================] - 18s 239ms/step - loss: 0.5823 - accuracy: 0.9679\n"
     ]
    },
    {
     "data": {
      "text/plain": [
       "<tensorflow.python.keras.callbacks.History at 0x7fc203e08898>"
      ]
     },
     "execution_count": 115,
     "metadata": {},
     "output_type": "execute_result"
    }
   ],
   "source": [
    "model.fit(train_data, epochs=10)"
   ]
  },
  {
   "cell_type": "code",
   "execution_count": 116,
   "metadata": {},
   "outputs": [
    {
     "name": "stdout",
     "output_type": "stream",
     "text": [
      "7/7 [==============================] - 1s 159ms/step - loss: 0.3779 - accuracy: 0.9902\n",
      "Model accuracy: 99.02%\n"
     ]
    }
   ],
   "source": [
    "loss, acc = model.evaluate(test_data, verbose=1)\n",
    "print(\"Model accuracy: {:5.2f}%\".format(100*acc))"
   ]
  },
  {
   "cell_type": "code",
   "execution_count": 105,
   "metadata": {},
   "outputs": [],
   "source": [
    "model.save_weights('weights.h5')"
   ]
  },
  {
   "cell_type": "code",
   "execution_count": null,
   "metadata": {},
   "outputs": [],
   "source": []
  }
 ],
 "metadata": {
  "kernelspec": {
   "display_name": "Python 3",
   "language": "python",
   "name": "python3"
  },
  "language_info": {
   "codemirror_mode": {
    "name": "ipython",
    "version": 3
   },
   "file_extension": ".py",
   "mimetype": "text/x-python",
   "name": "python",
   "nbconvert_exporter": "python",
   "pygments_lexer": "ipython3",
   "version": "3.6.9"
  }
 },
 "nbformat": 4,
 "nbformat_minor": 4
}
